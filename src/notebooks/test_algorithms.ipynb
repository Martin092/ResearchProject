{
 "cells": [
  {
   "cell_type": "code",
   "id": "initial_id",
   "metadata": {
    "collapsed": true,
    "ExecuteTime": {
     "end_time": "2025-05-30T13:58:06.995149Z",
     "start_time": "2025-05-30T13:58:06.737767Z"
    }
   },
   "source": [
    "import numpy as np\n",
    "from itertools import combinations\n",
    "from math import comb\n",
    "import matplotlib.pyplot as plt"
   ],
   "outputs": [],
   "execution_count": 7
  },
  {
   "metadata": {
    "ExecuteTime": {
     "end_time": "2025-05-12T11:05:58.121243Z",
     "start_time": "2025-05-12T11:05:58.118632Z"
    }
   },
   "cell_type": "code",
   "source": [
    "def k_of_n(k, n):\n",
    "    assert k <= n\n",
    "    total = comb(n, k)\n",
    "    result = np.zeros((total, n), dtype=bool)\n",
    "    for i, idxs in enumerate(combinations(range(n), k)):\n",
    "        result[i, list(idxs)] = True\n",
    "    return result"
   ],
   "id": "2d0fc4983fb787fc",
   "outputs": [],
   "execution_count": 3
  },
  {
   "metadata": {
    "ExecuteTime": {
     "end_time": "2025-05-12T11:11:15.513737Z",
     "start_time": "2025-05-12T11:11:15.509576Z"
    }
   },
   "cell_type": "code",
   "source": "k_of_n(5, 10).shape",
   "id": "4d4254668472485a",
   "outputs": [
    {
     "data": {
      "text/plain": [
       "(792, 12)"
      ]
     },
     "execution_count": 11,
     "metadata": {},
     "output_type": "execute_result"
    }
   ],
   "execution_count": 11
  },
  {
   "metadata": {
    "ExecuteTime": {
     "end_time": "2025-05-30T13:57:17.671747Z",
     "start_time": "2025-05-30T13:57:17.668733Z"
    }
   },
   "cell_type": "code",
   "source": [
    "def p(k, M, s=5, d=100):\n",
    "    return 1 - (1 - comb(d-s, k-s)/comb(d, k)) ** M"
   ],
   "id": "53cc427063ce3190",
   "outputs": [],
   "execution_count": 5
  },
  {
   "metadata": {
    "ExecuteTime": {
     "end_time": "2025-05-30T14:09:41.931639Z",
     "start_time": "2025-05-30T14:09:41.150265Z"
    }
   },
   "cell_type": "code",
   "source": [
    "k=20\n",
    "Ms = np.arange(100000)   \n",
    "res = [p(k, Ms[i]) for i in range(len(Ms))]\n",
    "plt.plot(Ms, res)"
   ],
   "id": "46ebbce4ceafb63",
   "outputs": [
    {
     "data": {
      "text/plain": [
       "[<matplotlib.lines.Line2D at 0x7fe890efab50>]"
      ]
     },
     "execution_count": 34,
     "metadata": {},
     "output_type": "execute_result"
    },
    {
     "data": {
      "text/plain": [
       "<Figure size 640x480 with 1 Axes>"
      ],
      "image/png": "[encoded data removed]"
     },
     "metadata": {},
     "output_type": "display_data"
    }
   ],
   "execution_count": 34
  },
  {
   "metadata": {
    "ExecuteTime": {
     "end_time": "2025-05-30T14:10:08.269570Z",
     "start_time": "2025-05-30T14:10:08.258691Z"
    }
   },
   "cell_type": "code",
   "source": "100000 - np.sum(np.array(res) < 0.95)",
   "id": "42058f08409f7aa",
   "outputs": [
    {
     "data": {
      "text/plain": [
       "np.int64(85454)"
      ]
     },
     "execution_count": 37,
     "metadata": {},
     "output_type": "execute_result"
    }
   ],
   "execution_count": 37
  },
  {
   "metadata": {
    "ExecuteTime": {
     "end_time": "2025-05-30T14:09:53.673532Z",
     "start_time": "2025-05-30T14:09:53.663118Z"
    }
   },
   "cell_type": "code",
   "source": "",
   "id": "c4e765ea53df40f2",
   "outputs": [
    {
     "data": {
      "text/plain": [
       "array([0.00000000e+00, 2.05930545e-04, 4.11818682e-04, ...,\n",
       "       9.99999999e-01, 9.99999999e-01, 9.99999999e-01], shape=(100000,))"
      ]
     },
     "execution_count": 36,
     "metadata": {},
     "output_type": "execute_result"
    }
   ],
   "execution_count": 36
  },
  {
   "metadata": {},
   "cell_type": "code",
   "outputs": [],
   "execution_count": null,
   "source": "",
   "id": "7d529f9cde297da4"
  }
 ],
 "metadata": {
  "kernelspec": {
   "display_name": "Python 3",
   "language": "python",
   "name": "python3"
  },
  "language_info": {
   "codemirror_mode": {
    "name": "ipython",
    "version": 2
   },
   "file_extension": ".py",
   "mimetype": "text/x-python",
   "name": "python",
   "nbconvert_exporter": "python",
   "pygments_lexer": "ipython2",
   "version": "2.7.6"
  }
 },
 "nbformat": 4,
 "nbformat_minor": 5
}
