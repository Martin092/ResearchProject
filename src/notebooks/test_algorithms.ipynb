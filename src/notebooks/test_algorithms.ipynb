{
 "cells": [
  {
   "cell_type": "code",
   "id": "initial_id",
   "metadata": {
    "collapsed": true,
    "ExecuteTime": {
     "end_time": "2025-05-12T11:05:56.951411Z",
     "start_time": "2025-05-12T11:05:56.903832Z"
    }
   },
   "source": [
    "import numpy as np\n",
    "from itertools import combinations\n",
    "from math import comb"
   ],
   "outputs": [],
   "execution_count": 2
  },
  {
   "metadata": {
    "ExecuteTime": {
     "end_time": "2025-05-12T11:05:58.121243Z",
     "start_time": "2025-05-12T11:05:58.118632Z"
    }
   },
   "cell_type": "code",
   "source": [
    "def k_of_n(k, n):\n",
    "    assert k <= n\n",
    "    total = comb(n, k)\n",
    "    result = np.zeros((total, n), dtype=bool)\n",
    "    for i, idxs in enumerate(combinations(range(n), k)):\n",
    "        result[i, list(idxs)] = True\n",
    "    return result"
   ],
   "id": "2d0fc4983fb787fc",
   "outputs": [],
   "execution_count": 3
  },
  {
   "metadata": {
    "ExecuteTime": {
     "end_time": "2025-05-12T11:11:15.513737Z",
     "start_time": "2025-05-12T11:11:15.509576Z"
    }
   },
   "cell_type": "code",
   "source": "k_of_n(5, 10).shape",
   "id": "4d4254668472485a",
   "outputs": [
    {
     "data": {
      "text/plain": [
       "(792, 12)"
      ]
     },
     "execution_count": 11,
     "metadata": {},
     "output_type": "execute_result"
    }
   ],
   "execution_count": 11
  },
  {
   "metadata": {},
   "cell_type": "code",
   "outputs": [],
   "execution_count": null,
   "source": "",
   "id": "53cc427063ce3190"
  }
 ],
 "metadata": {
  "kernelspec": {
   "display_name": "Python 3",
   "language": "python",
   "name": "python3"
  },
  "language_info": {
   "codemirror_mode": {
    "name": "ipython",
    "version": 2
   },
   "file_extension": ".py",
   "mimetype": "text/x-python",
   "name": "python",
   "nbconvert_exporter": "python",
   "pygments_lexer": "ipython2",
   "version": "2.7.6"
  }
 },
 "nbformat": 4,
 "nbformat_minor": 5
}
