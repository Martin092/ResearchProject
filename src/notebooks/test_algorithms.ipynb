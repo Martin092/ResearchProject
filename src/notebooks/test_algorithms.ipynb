{
 "cells": [
  {
   "cell_type": "code",
   "id": "initial_id",
   "metadata": {
    "collapsed": true,
    "ExecuteTime": {
     "end_time": "2025-05-11T16:13:57.066581Z",
     "start_time": "2025-05-11T16:13:56.988015Z"
    }
   },
   "source": "import numpy as np",
   "outputs": [],
   "execution_count": 1
  },
  {
   "metadata": {
    "ExecuteTime": {
     "end_time": "2025-05-11T16:19:56.810743Z",
     "start_time": "2025-05-11T16:19:56.807223Z"
    }
   },
   "cell_type": "code",
   "source": [
    "def powerset(n):\n",
    "    if n == 0:\n",
    "        return np.array([[]])\n",
    "    arr = powerset(n-1)\n",
    "    arr2 = np.array([[]], dtype=np.bool)\n",
    "    for i, a in enumerate(arr):\n",
    "        arr2 = np.vstack((arr2, np.append(arr[i], True)))\n",
    "        arr2 = np.vstack((arr2, np.append(arr[i], False)))\n",
    "    return arr2.astype(np.bool)"
   ],
   "id": "2d0fc4983fb787fc",
   "outputs": [],
   "execution_count": 14
  },
  {
   "metadata": {
    "ExecuteTime": {
     "end_time": "2025-05-11T16:19:57.135338Z",
     "start_time": "2025-05-11T16:19:57.096454Z"
    }
   },
   "cell_type": "code",
   "source": "powerset(1)",
   "id": "4d4254668472485a",
   "outputs": [
    {
     "ename": "ValueError",
     "evalue": "all the input array dimensions except for the concatenation axis must match exactly, but along dimension 1, the array at index 0 has size 0 and the array at index 1 has size 1",
     "output_type": "error",
     "traceback": [
      "\u001B[31m---------------------------------------------------------------------------\u001B[39m",
      "\u001B[31mValueError\u001B[39m                                Traceback (most recent call last)",
      "\u001B[36mCell\u001B[39m\u001B[36m \u001B[39m\u001B[32mIn[15]\u001B[39m\u001B[32m, line 1\u001B[39m\n\u001B[32m----> \u001B[39m\u001B[32m1\u001B[39m \u001B[43mpowerset\u001B[49m\u001B[43m(\u001B[49m\u001B[32;43m1\u001B[39;49m\u001B[43m)\u001B[49m\n",
      "\u001B[36mCell\u001B[39m\u001B[36m \u001B[39m\u001B[32mIn[14]\u001B[39m\u001B[32m, line 7\u001B[39m, in \u001B[36mpowerset\u001B[39m\u001B[34m(n)\u001B[39m\n\u001B[32m      5\u001B[39m arr2 = np.array([[]], dtype=np.bool)\n\u001B[32m      6\u001B[39m \u001B[38;5;28;01mfor\u001B[39;00m i, a \u001B[38;5;129;01min\u001B[39;00m \u001B[38;5;28menumerate\u001B[39m(arr):\n\u001B[32m----> \u001B[39m\u001B[32m7\u001B[39m     arr2 = \u001B[43mnp\u001B[49m\u001B[43m.\u001B[49m\u001B[43mvstack\u001B[49m\u001B[43m(\u001B[49m\u001B[43m(\u001B[49m\u001B[43marr2\u001B[49m\u001B[43m,\u001B[49m\u001B[43m \u001B[49m\u001B[43mnp\u001B[49m\u001B[43m.\u001B[49m\u001B[43mappend\u001B[49m\u001B[43m(\u001B[49m\u001B[43marr\u001B[49m\u001B[43m[\u001B[49m\u001B[43mi\u001B[49m\u001B[43m]\u001B[49m\u001B[43m,\u001B[49m\u001B[43m \u001B[49m\u001B[38;5;28;43;01mTrue\u001B[39;49;00m\u001B[43m)\u001B[49m\u001B[43m)\u001B[49m\u001B[43m)\u001B[49m\n\u001B[32m      8\u001B[39m     arr2 = np.vstack((arr2, np.append(arr[i], \u001B[38;5;28;01mFalse\u001B[39;00m)))\n\u001B[32m      9\u001B[39m \u001B[38;5;28;01mreturn\u001B[39;00m arr2.astype(np.bool)\n",
      "\u001B[36mFile \u001B[39m\u001B[32m~/Projects/SparseSequentialLearning/.venv/lib/python3.11/site-packages/numpy/_core/shape_base.py:292\u001B[39m, in \u001B[36mvstack\u001B[39m\u001B[34m(tup, dtype, casting)\u001B[39m\n\u001B[32m    290\u001B[39m \u001B[38;5;28;01mif\u001B[39;00m \u001B[38;5;129;01mnot\u001B[39;00m \u001B[38;5;28misinstance\u001B[39m(arrs, \u001B[38;5;28mtuple\u001B[39m):\n\u001B[32m    291\u001B[39m     arrs = (arrs,)\n\u001B[32m--> \u001B[39m\u001B[32m292\u001B[39m \u001B[38;5;28;01mreturn\u001B[39;00m \u001B[43m_nx\u001B[49m\u001B[43m.\u001B[49m\u001B[43mconcatenate\u001B[49m\u001B[43m(\u001B[49m\u001B[43marrs\u001B[49m\u001B[43m,\u001B[49m\u001B[43m \u001B[49m\u001B[32;43m0\u001B[39;49m\u001B[43m,\u001B[49m\u001B[43m \u001B[49m\u001B[43mdtype\u001B[49m\u001B[43m=\u001B[49m\u001B[43mdtype\u001B[49m\u001B[43m,\u001B[49m\u001B[43m \u001B[49m\u001B[43mcasting\u001B[49m\u001B[43m=\u001B[49m\u001B[43mcasting\u001B[49m\u001B[43m)\u001B[49m\n",
      "\u001B[31mValueError\u001B[39m: all the input array dimensions except for the concatenation axis must match exactly, but along dimension 1, the array at index 0 has size 0 and the array at index 1 has size 1"
     ]
    }
   ],
   "execution_count": 15
  },
  {
   "metadata": {},
   "cell_type": "code",
   "outputs": [],
   "execution_count": null,
   "source": "",
   "id": "53cc427063ce3190"
  }
 ],
 "metadata": {
  "kernelspec": {
   "display_name": "Python 3",
   "language": "python",
   "name": "python3"
  },
  "language_info": {
   "codemirror_mode": {
    "name": "ipython",
    "version": 2
   },
   "file_extension": ".py",
   "mimetype": "text/x-python",
   "name": "python",
   "nbconvert_exporter": "python",
   "pygments_lexer": "ipython2",
   "version": "2.7.6"
  }
 },
 "nbformat": 4,
 "nbformat_minor": 5
}
