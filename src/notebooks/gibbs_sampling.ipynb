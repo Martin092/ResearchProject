{
 "cells": [
  {
   "cell_type": "code",
   "id": "initial_id",
   "metadata": {
    "collapsed": true,
    "ExecuteTime": {
     "end_time": "2025-05-29T12:04:04.257139Z",
     "start_time": "2025-05-29T12:04:03.728166Z"
    }
   },
   "source": [
    "import numpy as np\n",
    "from scipy.stats import norm, bernoulli, multivariate_normal"
   ],
   "outputs": [],
   "execution_count": 106
  },
  {
   "metadata": {
    "ExecuteTime": {
     "end_time": "2025-05-29T13:57:39.645565Z",
     "start_time": "2025-05-29T13:57:39.641670Z"
    }
   },
   "cell_type": "code",
   "source": [
    "rho = 1e-4\n",
    "c = 100000"
   ],
   "id": "213b21742332878d",
   "outputs": [],
   "execution_count": 488
  },
  {
   "metadata": {
    "ExecuteTime": {
     "end_time": "2025-05-29T13:57:39.840375Z",
     "start_time": "2025-05-29T13:57:39.834488Z"
    }
   },
   "cell_type": "code",
   "source": [
    "def sample_gammas(gammas_probs):\n",
    "    return [1 if np.random.rand() < p else 0 for p in gammas_probs]\n",
    "\n",
    "def var_w(gamma): # variance of w\n",
    "    assert gamma in [0, 1]\n",
    "    return rho if gamma == 0 else c * rho\n",
    "\n",
    "def sample_weights(gammas):\n",
    "    return [np.random.normal(0, var_w(gamma)) for gamma in gammas]\n",
    "\n",
    "def gaussian(x, mu, var):\n",
    "    coef = 1 / np.sqrt(var * 2 * np.pi) \n",
    "    exp = np.exp(-0.5 * ((x - mu) ** 2)/var)\n",
    "    return coef * exp\n",
    "\n",
    "def prob_w(w, gamma):\n",
    "    return gaussian(w, 0, var_w(gamma))\n",
    "\n",
    "def prob_gamma(gamma):\n",
    "    return rho if gamma == 0 else c * rho"
   ],
   "id": "e32881e27dfbf319",
   "outputs": [],
   "execution_count": 489
  },
  {
   "metadata": {
    "ExecuteTime": {
     "end_time": "2025-05-29T13:57:39.949876Z",
     "start_time": "2025-05-29T13:57:39.946658Z"
    }
   },
   "cell_type": "code",
   "source": [
    "def gamma_post(k, gammas_probs, gammas, ws):\n",
    "    p0 = (1 - gammas_probs[k]) * prob_w(ws[k], 0)\n",
    "    p1 = gammas_probs[k] * prob_w(ws[k], 1)\n",
    "    return p1 / (p0 + p1)\n",
    "\n",
    "def w_post(X, y, gammas, noise): # p(w | stuff)\n",
    "    diag = [1 / ((c ** gamma) * rho) for gamma in gammas]\n",
    "    R_gamma_inv = np.diag(diag)\n",
    "    xtx = X.T @ X\n",
    "    mean = np.linalg.inv(noise * R_gamma_inv + xtx) @ X.T @ y\n",
    "    var = np.linalg.inv(R_gamma_inv + xtx / noise)\n",
    "\n",
    "    return np.random.multivariate_normal(mean, var)"
   ],
   "id": "cd89fb8111461617",
   "outputs": [],
   "execution_count": 490
  },
  {
   "metadata": {
    "ExecuteTime": {
     "end_time": "2025-05-29T14:58:33.921593Z",
     "start_time": "2025-05-29T14:58:33.918366Z"
    }
   },
   "cell_type": "code",
   "source": [
    "def gibbs(X, y, n, noise):\n",
    "    gammas_probs = np.repeat(0.1, X.shape[1])\n",
    "    gammas = sample_gammas(gammas_probs)\n",
    "    ws = w_post(X, y, gammas, noise)\n",
    "    \n",
    "    integral = np.zeros(X.shape[1])\n",
    "    for i in range(n):\n",
    "        ws = w_post(X, y, gammas, noise)\n",
    "        for i in range(len(gammas_probs)):\n",
    "            gammas_probs[i] = gamma_post(i, gammas_probs, gammas, ws)\n",
    "        gammas = sample_gammas(gammas_probs)\n",
    "        \n",
    "        w_probs = np.zeros(X.shape[1])\n",
    "        gamma_prior = np.zeros(X.shape[1])\n",
    "        for i in range(len(w_probs)):\n",
    "            w_probs[i] = prob_w(ws[i], gammas[i])\n",
    "            gamma_prior[i] = prob_gamma(gammas[i])\n",
    "            \n",
    "        integral += ws * gammas * w_probs * gammas_probs\n",
    "    return ws, gammas, integral"
   ],
   "id": "4dd4add3e8381e16",
   "outputs": [],
   "execution_count": 531
  },
  {
   "metadata": {
    "ExecuteTime": {
     "end_time": "2025-05-29T14:58:34.395203Z",
     "start_time": "2025-05-29T14:58:34.391877Z"
    }
   },
   "cell_type": "code",
   "source": [
    "d = 10\n",
    "s = 5\n",
    "n = 1000\n",
    "noise = 0.1\n",
    "X = np.random.uniform(size=(n, d))\n",
    "ws = np.zeros(d)\n",
    "indices = np.arange(d)\n",
    "np.random.shuffle(indices)\n",
    "ws[indices[:s]] = 1\n",
    "print(ws)\n",
    "y = np.dot(X, ws) + np.random.normal(0, noise)"
   ],
   "id": "b01a69aadf4c8f5d",
   "outputs": [
    {
     "name": "stdout",
     "output_type": "stream",
     "text": [
      "[0. 0. 1. 1. 1. 1. 1. 0. 0. 0.]\n"
     ]
    }
   ],
   "execution_count": 532
  },
  {
   "metadata": {
    "ExecuteTime": {
     "end_time": "2025-05-29T14:58:35.303737Z",
     "start_time": "2025-05-29T14:58:35.268127Z"
    }
   },
   "cell_type": "code",
   "source": [
    "runs = 100\n",
    "ws, gammas, integral = gibbs(X, y, runs, noise)\n",
    "ws"
   ],
   "id": "b1c7b60f974d6e3d",
   "outputs": [
    {
     "data": {
      "text/plain": [
       "array([-0.00989339, -0.03716892,  1.02333738,  0.95278299,  1.01901316,\n",
       "        1.00566242,  1.02220576,  0.00549711,  0.09761195,  0.02113016])"
      ]
     },
     "execution_count": 533,
     "metadata": {},
     "output_type": "execute_result"
    }
   ],
   "execution_count": 533
  },
  {
   "metadata": {
    "ExecuteTime": {
     "end_time": "2025-05-29T14:58:41.620761Z",
     "start_time": "2025-05-29T14:58:41.617335Z"
    }
   },
   "cell_type": "code",
   "source": "(integral / runs)",
   "id": "3bfb76d6f89c351b",
   "outputs": [
    {
     "data": {
      "text/plain": [
       "array([0.00141656, 0.00147013, 0.12089441, 0.1200156 , 0.11998808,\n",
       "       0.12026965, 0.12010293, 0.00150982, 0.00224957, 0.00338816])"
      ]
     },
     "execution_count": 534,
     "metadata": {},
     "output_type": "execute_result"
    }
   ],
   "execution_count": 534
  },
  {
   "metadata": {
    "ExecuteTime": {
     "end_time": "2025-05-29T14:58:42.101860Z",
     "start_time": "2025-05-29T14:58:42.098941Z"
    }
   },
   "cell_type": "code",
   "source": "np.array(gammas)",
   "id": "5b8768ee3d76e061",
   "outputs": [
    {
     "data": {
      "text/plain": [
       "array([1, 1, 1, 1, 1, 1, 1, 1, 1, 1])"
      ]
     },
     "execution_count": 535,
     "metadata": {},
     "output_type": "execute_result"
    }
   ],
   "execution_count": 535
  },
  {
   "metadata": {
    "ExecuteTime": {
     "end_time": "2025-05-29T14:05:40.861042Z",
     "start_time": "2025-05-29T14:05:40.856602Z"
    }
   },
   "cell_type": "code",
   "source": "np.multiply(ws, gammas)[indices[:s]]",
   "id": "8519d8c380325d23",
   "outputs": [
    {
     "data": {
      "text/plain": [
       "array([1.00019966, 1.02427643, 0.9976252 , 1.06340773, 0.98652045])"
      ]
     },
     "execution_count": 524,
     "metadata": {},
     "output_type": "execute_result"
    }
   ],
   "execution_count": 524
  },
  {
   "metadata": {},
   "cell_type": "code",
   "outputs": [],
   "execution_count": null,
   "source": "",
   "id": "ad0db0bd745fee5c"
  }
 ],
 "metadata": {
  "kernelspec": {
   "display_name": "Python 3",
   "language": "python",
   "name": "python3"
  },
  "language_info": {
   "codemirror_mode": {
    "name": "ipython",
    "version": 2
   },
   "file_extension": ".py",
   "mimetype": "text/x-python",
   "name": "python",
   "nbconvert_exporter": "python",
   "pygments_lexer": "ipython2",
   "version": "2.7.6"
  }
 },
 "nbformat": 4,
 "nbformat_minor": 5
}
