{
 "cells": [
  {
   "cell_type": "code",
   "id": "initial_id",
   "metadata": {
    "collapsed": true,
    "ExecuteTime": {
     "end_time": "2025-05-29T12:04:04.257139Z",
     "start_time": "2025-05-29T12:04:03.728166Z"
    }
   },
   "source": [
    "import numpy as np\n",
    "from scipy.stats import norm, bernoulli, multivariate_normal"
   ],
   "outputs": [],
   "execution_count": 106
  },
  {
   "metadata": {
    "ExecuteTime": {
     "end_time": "2025-05-29T13:57:39.645565Z",
     "start_time": "2025-05-29T13:57:39.641670Z"
    }
   },
   "cell_type": "code",
   "source": [
    "rho = 1e-4\n",
    "c = 100000"
   ],
   "id": "213b21742332878d",
   "outputs": [],
   "execution_count": 488
  },
  {
   "metadata": {
    "ExecuteTime": {
     "end_time": "2025-05-29T13:57:39.840375Z",
     "start_time": "2025-05-29T13:57:39.834488Z"
    }
   },
   "cell_type": "code",
   "source": [
    "def sample_gammas(gammas_probs):\n",
    "    return [1 if np.random.rand() < p else 0 for p in gammas_probs]\n",
    "\n",
    "def var_w(gamma): # variance of w\n",
    "    assert gamma in [0, 1]\n",
    "    return rho if gamma == 0 else c * rho\n",
    "\n",
    "def sample_weights(gammas):\n",
    "    return [np.random.normal(0, var_w(gamma)) for gamma in gammas]\n",
    "\n",
    "def gaussian(x, mu, var):\n",
    "    coef = 1 / np.sqrt(var * 2 * np.pi) \n",
    "    exp = np.exp(-0.5 * ((x - mu) ** 2)/var)\n",
    "    return coef * exp\n",
    "\n",
    "def prob_w(w, gamma):\n",
    "    return gaussian(w, 0, var_w(gamma))\n",
    "\n",
    "def prob_gamma(gamma):\n",
    "    return rho if gamma == 0 else c * rho"
   ],
   "id": "e32881e27dfbf319",
   "outputs": [],
   "execution_count": 489
  },
  {
   "metadata": {
    "ExecuteTime": {
     "end_time": "2025-05-29T13:57:39.949876Z",
     "start_time": "2025-05-29T13:57:39.946658Z"
    }
   },
   "cell_type": "code",
   "source": [
    "def gamma_post(k, gammas_probs, gammas, ws):\n",
    "    p0 = (1 - gammas_probs[k]) * prob_w(ws[k], 0)\n",
    "    p1 = gammas_probs[k] * prob_w(ws[k], 1)\n",
    "    return p1 / (p0 + p1)\n",
    "\n",
    "def w_post(X, y, gammas, noise): # p(w | stuff)\n",
    "    diag = [1 / ((c ** gamma) * rho) for gamma in gammas]\n",
    "    R_gamma_inv = np.diag(diag)\n",
    "    xtx = X.T @ X\n",
    "    mean = np.linalg.inv(noise * R_gamma_inv + xtx) @ X.T @ y\n",
    "    var = np.linalg.inv(R_gamma_inv + xtx / noise)\n",
    "\n",
    "    return np.random.multivariate_normal(mean, var)"
   ],
   "id": "cd89fb8111461617",
   "outputs": [],
   "execution_count": 490
  },
  {
   "metadata": {
    "ExecuteTime": {
     "end_time": "2025-05-29T13:57:40.366787Z",
     "start_time": "2025-05-29T13:57:40.363406Z"
    }
   },
   "cell_type": "code",
   "source": [
    "def gibbs(X, y, n, noise):\n",
    "    gammas_probs = np.repeat(0.5, X.shape[1])\n",
    "    gammas = sample_gammas(gammas_probs)\n",
    "    ws = w_post(X, y, gammas, noise)\n",
    "    \n",
    "    integral = np.zeros(X.shape[1])\n",
    "    for i in range(n):\n",
    "        ws = w_post(X, y, gammas, noise)\n",
    "        for i in range(len(gammas_probs)):\n",
    "            gammas_probs[i] = gamma_post(i, gammas_probs, gammas, ws)\n",
    "        gammas = sample_gammas(gammas_probs)\n",
    "        \n",
    "        w_probs = np.zeros(X.shape[1])\n",
    "        gamma_prior = np.zeros(X.shape[1])\n",
    "        for i in range(len(w_probs)):\n",
    "            w_probs[i] = prob_w(ws[i], gammas[i])\n",
    "            gamma_prior[i] = prob_gamma(gammas[i])\n",
    "            \n",
    "        integral += ws * gammas * w_probs * gammas_probs\n",
    "    return ws, gammas, integral"
   ],
   "id": "4dd4add3e8381e16",
   "outputs": [],
   "execution_count": 491
  },
  {
   "metadata": {
    "ExecuteTime": {
     "end_time": "2025-05-29T13:59:49.678552Z",
     "start_time": "2025-05-29T13:59:49.669703Z"
    }
   },
   "cell_type": "code",
   "source": [
    "d = 100\n",
    "s = 5\n",
    "n = 1000\n",
    "noise = 0.1\n",
    "X = np.random.uniform(size=(n, d))\n",
    "ws = np.zeros(d)\n",
    "indices = np.arange(d)\n",
    "np.random.shuffle(indices)\n",
    "ws[indices[:s]] = 1\n",
    "print(ws)\n",
    "y = np.dot(X, ws) + np.random.normal(0, noise)"
   ],
   "id": "b01a69aadf4c8f5d",
   "outputs": [
    {
     "name": "stdout",
     "output_type": "stream",
     "text": [
      "[0. 0. 0. 0. 0. 0. 0. 0. 1. 0. 0. 0. 0. 0. 0. 0. 0. 0. 0. 0. 0. 0. 0. 0.\n",
      " 1. 0. 0. 0. 0. 0. 0. 0. 0. 0. 0. 0. 0. 0. 0. 0. 1. 1. 0. 0. 0. 0. 0. 0.\n",
      " 0. 0. 0. 0. 1. 0. 0. 0. 0. 0. 0. 0. 0. 0. 0. 0. 0. 0. 0. 0. 0. 0. 0. 0.\n",
      " 0. 0. 0. 0. 0. 0. 0. 0. 0. 0. 0. 0. 0. 0. 0. 0. 0. 0. 0. 0. 0. 0. 0. 0.\n",
      " 0. 0. 0. 0.]\n"
     ]
    }
   ],
   "execution_count": 497
  },
  {
   "metadata": {
    "ExecuteTime": {
     "end_time": "2025-05-29T14:05:39.610732Z",
     "start_time": "2025-05-29T14:05:38.581245Z"
    }
   },
   "cell_type": "code",
   "source": [
    "runs = 100\n",
    "ws, gammas, integral = gibbs(X, y, runs, noise)\n",
    "ws[indices[:s]]"
   ],
   "id": "b1c7b60f974d6e3d",
   "outputs": [
    {
     "data": {
      "text/plain": [
       "array([1.00019966, 1.02427643, 0.9976252 , 1.06340773, 0.98652045])"
      ]
     },
     "execution_count": 521,
     "metadata": {},
     "output_type": "execute_result"
    }
   ],
   "execution_count": 521
  },
  {
   "metadata": {
    "ExecuteTime": {
     "end_time": "2025-05-29T14:05:39.674740Z",
     "start_time": "2025-05-29T14:05:39.671089Z"
    }
   },
   "cell_type": "code",
   "source": "(integral / runs)",
   "id": "3bfb76d6f89c351b",
   "outputs": [
    {
     "data": {
      "text/plain": [
       "array([ 0.00000000e+00,  0.00000000e+00,  6.26286782e-05,  3.92073334e-06,\n",
       "        0.00000000e+00,  0.00000000e+00,  0.00000000e+00,  0.00000000e+00,\n",
       "        1.20619881e-01,  4.61280150e-04,  0.00000000e+00,  6.13271579e-05,\n",
       "        3.20609084e-04,  0.00000000e+00,  1.28466618e-04,  0.00000000e+00,\n",
       "        0.00000000e+00,  0.00000000e+00,  2.42412480e-04,  0.00000000e+00,\n",
       "        0.00000000e+00,  0.00000000e+00,  0.00000000e+00,  0.00000000e+00,\n",
       "        1.18703921e-01,  1.12791863e-03,  0.00000000e+00,  1.11579330e-03,\n",
       "        0.00000000e+00,  0.00000000e+00,  0.00000000e+00,  7.12488273e-04,\n",
       "        0.00000000e+00,  0.00000000e+00,  0.00000000e+00,  7.62695500e-04,\n",
       "        0.00000000e+00,  5.11204535e-04,  0.00000000e+00,  7.76228087e-05,\n",
       "        1.19147522e-01,  1.20951197e-01,  4.56048123e-05,  4.45299141e-04,\n",
       "        1.19289483e-03,  4.49513272e-04,  0.00000000e+00,  0.00000000e+00,\n",
       "        4.85858543e-05,  0.00000000e+00,  0.00000000e+00, -4.82102530e-05,\n",
       "        1.18948433e-01,  0.00000000e+00,  0.00000000e+00, -5.57953064e-05,\n",
       "        0.00000000e+00,  1.98599796e-04,  0.00000000e+00,  0.00000000e+00,\n",
       "        0.00000000e+00,  1.62302265e-04,  0.00000000e+00,  0.00000000e+00,\n",
       "       -4.07772022e-05,  0.00000000e+00,  5.52544583e-05,  0.00000000e+00,\n",
       "        0.00000000e+00,  2.93466070e-04,  0.00000000e+00,  5.37769045e-04,\n",
       "        3.55909506e-04,  0.00000000e+00,  1.42998928e-03,  4.95594110e-05,\n",
       "        0.00000000e+00,  0.00000000e+00,  0.00000000e+00,  5.77062656e-04,\n",
       "        0.00000000e+00,  4.13067018e-04,  0.00000000e+00,  8.00851592e-05,\n",
       "        0.00000000e+00,  0.00000000e+00,  0.00000000e+00,  2.59571801e-07,\n",
       "        0.00000000e+00,  0.00000000e+00,  6.32504952e-04,  0.00000000e+00,\n",
       "        0.00000000e+00,  5.34811068e-04,  0.00000000e+00,  0.00000000e+00,\n",
       "        6.45053434e-04, -5.10872123e-05,  0.00000000e+00,  0.00000000e+00])"
      ]
     },
     "execution_count": 522,
     "metadata": {},
     "output_type": "execute_result"
    }
   ],
   "execution_count": 522
  },
  {
   "metadata": {
    "ExecuteTime": {
     "end_time": "2025-05-29T14:05:40.308455Z",
     "start_time": "2025-05-29T14:05:40.305505Z"
    }
   },
   "cell_type": "code",
   "source": "np.array(gammas)[indices[:s]]",
   "id": "5b8768ee3d76e061",
   "outputs": [
    {
     "data": {
      "text/plain": [
       "array([1, 1, 1, 1, 1])"
      ]
     },
     "execution_count": 523,
     "metadata": {},
     "output_type": "execute_result"
    }
   ],
   "execution_count": 523
  },
  {
   "metadata": {
    "ExecuteTime": {
     "end_time": "2025-05-29T14:05:40.861042Z",
     "start_time": "2025-05-29T14:05:40.856602Z"
    }
   },
   "cell_type": "code",
   "source": "np.multiply(ws, gammas)[indices[:s]]",
   "id": "8519d8c380325d23",
   "outputs": [
    {
     "data": {
      "text/plain": [
       "array([1.00019966, 1.02427643, 0.9976252 , 1.06340773, 0.98652045])"
      ]
     },
     "execution_count": 524,
     "metadata": {},
     "output_type": "execute_result"
    }
   ],
   "execution_count": 524
  },
  {
   "metadata": {},
   "cell_type": "code",
   "outputs": [],
   "execution_count": null,
   "source": "",
   "id": "ad0db0bd745fee5c"
  }
 ],
 "metadata": {
  "kernelspec": {
   "display_name": "Python 3",
   "language": "python",
   "name": "python3"
  },
  "language_info": {
   "codemirror_mode": {
    "name": "ipython",
    "version": 2
   },
   "file_extension": ".py",
   "mimetype": "text/x-python",
   "name": "python",
   "nbconvert_exporter": "python",
   "pygments_lexer": "ipython2",
   "version": "2.7.6"
  }
 },
 "nbformat": 4,
 "nbformat_minor": 5
}
