{
 "cells": [
  {
   "cell_type": "code",
   "id": "initial_id",
   "metadata": {
    "collapsed": true,
    "ExecuteTime": {
     "end_time": "2025-05-19T19:41:15.047179Z",
     "start_time": "2025-05-19T19:41:14.157517Z"
    }
   },
   "source": [
    "import numpy as np\n",
    "import matplotlib.pyplot as plt\n",
    "from src.OnlineRegressors.ConcreteRegressors.AdaptiveRegression import AdaptiveRegressor\n",
    "import scipy.sparse as sp\n",
    "from src.OnlineRegressors.ConcreteRegressors.OnlineRidgeFSSCB import RidgeFSSCB"
   ],
   "outputs": [],
   "execution_count": 1
  },
  {
   "metadata": {
    "ExecuteTime": {
     "end_time": "2025-05-19T19:41:15.050324Z",
     "start_time": "2025-05-19T19:41:15.048156Z"
    }
   },
   "cell_type": "code",
   "source": [
    "d = 100\n",
    "n = 5000\n",
    "s = 5\n",
    "mx = 10\n",
    "mn = -10"
   ],
   "id": "41f8efcc49737b36",
   "outputs": [],
   "execution_count": 2
  },
  {
   "metadata": {
    "ExecuteTime": {
     "end_time": "2025-05-19T19:41:15.878361Z",
     "start_time": "2025-05-19T19:41:15.705422Z"
    }
   },
   "cell_type": "code",
   "source": [
    "adaptive_params = {\n",
    "          \"sigma\": 0.01,\n",
    "          \"k\": s,\n",
    "          \"k0\": 40,\n",
    "          \"t0\": 1,\n",
    "          \"C\": 0.01,\n",
    "          \"delta\": 0.05\n",
    "        }\n",
    "\n",
    "# regression = RidgeFSSCB(d, {\"lambda_reg\": 1})\n",
    "regression = AdaptiveRegressor(d, adaptive_params)\n",
    "w_real = np.zeros(d)\n",
    "non_zero = np.random.choice(np.arange(d), size=s, replace=False)\n",
    "for i in non_zero:\n",
    "    w_real[i] = np.random.uniform(mn, mx)\n",
    "\n",
    "w_real = w_real.reshape(-1, 1)\n",
    "    \n",
    "for i in range(n):\n",
    "    x = np.random.normal(0, 1, size=(d, 1))\n",
    "    y = (w_real.T @ x)[0][0]\n",
    "    regression.predict_and_fit(x, y)"
   ],
   "id": "23d6d8c32caa3e6a",
   "outputs": [
    {
     "ename": "AssertionError",
     "evalue": "",
     "output_type": "error",
     "traceback": [
      "\u001B[31m---------------------------------------------------------------------------\u001B[39m",
      "\u001B[31mAssertionError\u001B[39m                            Traceback (most recent call last)",
      "\u001B[36mCell\u001B[39m\u001B[36m \u001B[39m\u001B[32mIn[3]\u001B[39m\u001B[32m, line 22\u001B[39m\n\u001B[32m     20\u001B[39m x = np.random.normal(\u001B[32m0\u001B[39m, \u001B[32m1\u001B[39m, size=(d, \u001B[32m1\u001B[39m))\n\u001B[32m     21\u001B[39m y = (w_real.T @ x)[\u001B[32m0\u001B[39m][\u001B[32m0\u001B[39m]\n\u001B[32m---> \u001B[39m\u001B[32m22\u001B[39m \u001B[43mregression\u001B[49m\u001B[43m.\u001B[49m\u001B[43mpredict_and_fit\u001B[49m\u001B[43m(\u001B[49m\u001B[43mx\u001B[49m\u001B[43m,\u001B[49m\u001B[43m \u001B[49m\u001B[43my\u001B[49m\u001B[43m)\u001B[49m\n",
      "\u001B[36mFile \u001B[39m\u001B[32m~/Projects/SparseSequentialLearning/src/OnlineRegressors/AbstractRegressor.py:28\u001B[39m, in \u001B[36mRegressor.predict_and_fit\u001B[39m\u001B[34m(self, x, y)\u001B[39m\n\u001B[32m     27\u001B[39m \u001B[38;5;28;01mdef\u001B[39;00m\u001B[38;5;250m \u001B[39m\u001B[34mpredict_and_fit\u001B[39m(\u001B[38;5;28mself\u001B[39m, x, y):\n\u001B[32m---> \u001B[39m\u001B[32m28\u001B[39m     pred = \u001B[38;5;28;43mself\u001B[39;49m\u001B[43m.\u001B[49m\u001B[43mpredict\u001B[49m\u001B[43m(\u001B[49m\u001B[43mx\u001B[49m\u001B[43m)\u001B[49m\n\u001B[32m     29\u001B[39m     \u001B[38;5;28mself\u001B[39m.update(x, pred, y)\n\u001B[32m     30\u001B[39m     \u001B[38;5;28;01mreturn\u001B[39;00m pred\n",
      "\u001B[36mFile \u001B[39m\u001B[32m~/Projects/SparseSequentialLearning/src/OnlineRegressors/ConcreteRegressors/AdaptiveRegression.py:28\u001B[39m, in \u001B[36mAdaptiveRegressor.predict\u001B[39m\u001B[34m(self, x)\u001B[39m\n\u001B[32m     27\u001B[39m \u001B[38;5;28;01mdef\u001B[39;00m\u001B[38;5;250m \u001B[39m\u001B[34mpredict\u001B[39m(\u001B[38;5;28mself\u001B[39m, x):\n\u001B[32m---> \u001B[39m\u001B[32m28\u001B[39m     \u001B[38;5;28;01massert\u001B[39;00m x.ndim == \u001B[32m1\u001B[39m\n\u001B[32m     29\u001B[39m     \u001B[38;5;28;01mreturn\u001B[39;00m np.dot(\u001B[38;5;28mself\u001B[39m.w, x)\n",
      "\u001B[31mAssertionError\u001B[39m: "
     ]
    }
   ],
   "execution_count": 3
  },
  {
   "metadata": {
    "ExecuteTime": {
     "end_time": "2025-05-19T18:01:58.704058Z",
     "start_time": "2025-05-19T18:01:58.421984Z"
    }
   },
   "cell_type": "code",
   "source": [
    "plt.bar(np.arange(d), w_real.flatten(), label=\"true\")\n",
    "plt.bar(np.arange(d), regression.w.flatten(), label=\"predicted\", alpha=0.8)\n",
    "plt.legend()"
   ],
   "id": "5af5755d2c65e7ae",
   "outputs": [
    {
     "data": {
      "text/plain": [
       "<matplotlib.legend.Legend at 0x7f15a100fb90>"
      ]
     },
     "execution_count": 10,
     "metadata": {},
     "output_type": "execute_result"
    },
    {
     "data": {
      "text/plain": [
       "<Figure size 640x480 with 1 Axes>"
      ],
      "image/png": "[encoded data removed]"
     },
     "metadata": {},
     "output_type": "display_data"
    }
   ],
   "execution_count": 10
  },
  {
   "metadata": {
    "ExecuteTime": {
     "end_time": "2025-05-19T18:02:45.699035Z",
     "start_time": "2025-05-19T18:02:45.581388Z"
    }
   },
   "cell_type": "code",
   "source": "plt.bar(np.arange(d), w_real.flatten(), label=\"true\")",
   "id": "45d98fb968b6d33e",
   "outputs": [
    {
     "data": {
      "text/plain": [
       "<BarContainer object of 100 artists>"
      ]
     },
     "execution_count": 11,
     "metadata": {},
     "output_type": "execute_result"
    },
    {
     "data": {
      "text/plain": [
       "<Figure size 640x480 with 1 Axes>"
      ],
      "image/png": "[encoded data removed]"
     },
     "metadata": {},
     "output_type": "display_data"
    }
   ],
   "execution_count": 11
  },
  {
   "metadata": {
    "ExecuteTime": {
     "end_time": "2025-05-19T19:09:23.267447Z",
     "start_time": "2025-05-19T19:09:23.264048Z"
    }
   },
   "cell_type": "code",
   "source": [
    "r = sp.random(1, 5, density=1)\n",
    "print(r.todense())\n",
    "r.dot(np.arange(5))"
   ],
   "id": "82e964af8a7dc651",
   "outputs": [
    {
     "name": "stdout",
     "output_type": "stream",
     "text": [
      "[[0.66611522 0.58131191 0.90554308 0.90748878 0.3134436 ]]\n"
     ]
    },
    {
     "data": {
      "text/plain": [
       "array([6.3686388])"
      ]
     },
     "execution_count": 44,
     "metadata": {},
     "output_type": "execute_result"
    }
   ],
   "execution_count": 44
  },
  {
   "metadata": {
    "ExecuteTime": {
     "end_time": "2025-05-19T19:27:38.645999Z",
     "start_time": "2025-05-19T19:27:38.643401Z"
    }
   },
   "cell_type": "code",
   "source": "a = np.arange(5)",
   "id": "8e323910279afcd1",
   "outputs": [
    {
     "data": {
      "text/plain": [
       "np.int64(30)"
      ]
     },
     "execution_count": 45,
     "metadata": {},
     "output_type": "execute_result"
    }
   ],
   "execution_count": 45
  },
  {
   "metadata": {
    "ExecuteTime": {
     "end_time": "2025-05-19T19:38:13.726856Z",
     "start_time": "2025-05-19T19:38:13.666348Z"
    }
   },
   "cell_type": "code",
   "source": "r @ a",
   "id": "93c195d9a3f25f98",
   "outputs": [
    {
     "ename": "ValueError",
     "evalue": "matmul: dimension mismatch with signature (n,k=1),(k=5,1?)->(n,1?)",
     "output_type": "error",
     "traceback": [
      "\u001B[31m---------------------------------------------------------------------------\u001B[39m",
      "\u001B[31mValueError\u001B[39m                                Traceback (most recent call last)",
      "\u001B[36mCell\u001B[39m\u001B[36m \u001B[39m\u001B[32mIn[54]\u001B[39m\u001B[32m, line 1\u001B[39m\n\u001B[32m----> \u001B[39m\u001B[32m1\u001B[39m \u001B[43ma\u001B[49m\u001B[43m \u001B[49m\u001B[43m@\u001B[49m\u001B[43m \u001B[49m\u001B[43mr\u001B[49m\n",
      "\u001B[36mFile \u001B[39m\u001B[32m~/Projects/SparseSequentialLearning/.venv/lib/python3.11/site-packages/scipy/sparse/_base.py:738\u001B[39m, in \u001B[36m_spbase.__rmatmul__\u001B[39m\u001B[34m(self, other)\u001B[39m\n\u001B[32m    735\u001B[39m \u001B[38;5;28;01mif\u001B[39;00m isscalarlike(other):\n\u001B[32m    736\u001B[39m     \u001B[38;5;28;01mraise\u001B[39;00m \u001B[38;5;167;01mValueError\u001B[39;00m(\u001B[33m\"\u001B[39m\u001B[33mScalar operands are not allowed, \u001B[39m\u001B[33m\"\u001B[39m\n\u001B[32m    737\u001B[39m                      \u001B[33m\"\u001B[39m\u001B[33muse \u001B[39m\u001B[33m'\u001B[39m\u001B[33m*\u001B[39m\u001B[33m'\u001B[39m\u001B[33m instead\u001B[39m\u001B[33m\"\u001B[39m)\n\u001B[32m--> \u001B[39m\u001B[32m738\u001B[39m \u001B[38;5;28;01mreturn\u001B[39;00m \u001B[38;5;28;43mself\u001B[39;49m\u001B[43m.\u001B[49m\u001B[43m_rmatmul_dispatch\u001B[49m\u001B[43m(\u001B[49m\u001B[43mother\u001B[49m\u001B[43m)\u001B[49m\n",
      "\u001B[36mFile \u001B[39m\u001B[32m~/Projects/SparseSequentialLearning/.venv/lib/python3.11/site-packages/scipy/sparse/_coo.py:669\u001B[39m, in \u001B[36m_coo_base._rmatmul_dispatch\u001B[39m\u001B[34m(self, other)\u001B[39m\n\u001B[32m    667\u001B[39m s_ndim = \u001B[38;5;28mself\u001B[39m.ndim\n\u001B[32m    668\u001B[39m perm = \u001B[38;5;28mtuple\u001B[39m(\u001B[38;5;28mrange\u001B[39m(s_ndim)[:-\u001B[32m2\u001B[39m]) + \u001B[38;5;28mtuple\u001B[39m(\u001B[38;5;28mrange\u001B[39m(s_ndim)[-\u001B[32m2\u001B[39m:][::-\u001B[32m1\u001B[39m])\n\u001B[32m--> \u001B[39m\u001B[32m669\u001B[39m ret = \u001B[38;5;28;43mself\u001B[39;49m\u001B[43m.\u001B[49m\u001B[43mtranspose\u001B[49m\u001B[43m(\u001B[49m\u001B[43mperm\u001B[49m\u001B[43m)\u001B[49m\u001B[43m.\u001B[49m\u001B[43m_matmul_dispatch\u001B[49m\u001B[43m(\u001B[49m\u001B[43mtr\u001B[49m\u001B[43m)\u001B[49m\n\u001B[32m    670\u001B[39m \u001B[38;5;28;01mif\u001B[39;00m ret \u001B[38;5;129;01mis\u001B[39;00m \u001B[38;5;28mNotImplemented\u001B[39m:\n\u001B[32m    671\u001B[39m     \u001B[38;5;28;01mreturn\u001B[39;00m \u001B[38;5;28mNotImplemented\u001B[39m\n",
      "\u001B[36mFile \u001B[39m\u001B[32m~/Projects/SparseSequentialLearning/.venv/lib/python3.11/site-packages/scipy/sparse/_coo.py:699\u001B[39m, in \u001B[36m_coo_base._matmul_dispatch\u001B[39m\u001B[34m(self, other)\u001B[39m\n\u001B[32m    696\u001B[39m         other = other_a\n\u001B[32m    698\u001B[39m \u001B[38;5;28;01mif\u001B[39;00m \u001B[38;5;28mself\u001B[39m.ndim < \u001B[32m3\u001B[39m \u001B[38;5;129;01mand\u001B[39;00m other.ndim < \u001B[32m3\u001B[39m:\n\u001B[32m--> \u001B[39m\u001B[32m699\u001B[39m     \u001B[38;5;28;01mreturn\u001B[39;00m \u001B[43m_spbase\u001B[49m\u001B[43m.\u001B[49m\u001B[43m_matmul_dispatch\u001B[49m\u001B[43m(\u001B[49m\u001B[38;5;28;43mself\u001B[39;49m\u001B[43m,\u001B[49m\u001B[43m \u001B[49m\u001B[43mother\u001B[49m\u001B[43m)\u001B[49m\n\u001B[32m    701\u001B[39m N = \u001B[38;5;28mself\u001B[39m.shape[-\u001B[32m1\u001B[39m]\n\u001B[32m    702\u001B[39m err_prefix = \u001B[33m\"\u001B[39m\u001B[33mmatmul: dimension mismatch with signature\u001B[39m\u001B[33m\"\u001B[39m\n",
      "\u001B[36mFile \u001B[39m\u001B[32m~/Projects/SparseSequentialLearning/.venv/lib/python3.11/site-packages/scipy/sparse/_base.py:654\u001B[39m, in \u001B[36m_spbase._matmul_dispatch\u001B[39m\u001B[34m(self, other)\u001B[39m\n\u001B[32m    651\u001B[39m \u001B[38;5;28;01mif\u001B[39;00m other.ndim == \u001B[32m1\u001B[39m \u001B[38;5;129;01mor\u001B[39;00m other.ndim == \u001B[32m2\u001B[39m \u001B[38;5;129;01mand\u001B[39;00m other.shape[\u001B[32m1\u001B[39m] == \u001B[32m1\u001B[39m:\n\u001B[32m    652\u001B[39m     \u001B[38;5;66;03m# dense row or column vector\u001B[39;00m\n\u001B[32m    653\u001B[39m     \u001B[38;5;28;01mif\u001B[39;00m other.shape[\u001B[32m0\u001B[39m] != N:\n\u001B[32m--> \u001B[39m\u001B[32m654\u001B[39m         \u001B[38;5;28;01mraise\u001B[39;00m \u001B[38;5;167;01mValueError\u001B[39;00m(\n\u001B[32m    655\u001B[39m             \u001B[33mf\u001B[39m\u001B[33m\"\u001B[39m\u001B[38;5;132;01m{\u001B[39;00merr_prefix\u001B[38;5;132;01m}\u001B[39;00m\u001B[33m (n,k=\u001B[39m\u001B[38;5;132;01m{\u001B[39;00mN\u001B[38;5;132;01m}\u001B[39;00m\u001B[33m),(k=\u001B[39m\u001B[38;5;132;01m{\u001B[39;00mother.shape[\u001B[32m0\u001B[39m]\u001B[38;5;132;01m}\u001B[39;00m\u001B[33m,1?)->(n,1?)\u001B[39m\u001B[33m\"\u001B[39m\n\u001B[32m    656\u001B[39m         )\n\u001B[32m    658\u001B[39m     result = \u001B[38;5;28mself\u001B[39m._matmul_vector(np.ravel(other))\n\u001B[32m    660\u001B[39m     \u001B[38;5;28;01mif\u001B[39;00m \u001B[38;5;28misinstance\u001B[39m(other, np.matrix):\n",
      "\u001B[31mValueError\u001B[39m: matmul: dimension mismatch with signature (n,k=1),(k=5,1?)->(n,1?)"
     ]
    }
   ],
   "execution_count": 54
  },
  {
   "metadata": {},
   "cell_type": "code",
   "outputs": [],
   "execution_count": null,
   "source": "",
   "id": "60a16c37ab811459"
  }
 ],
 "metadata": {
  "kernelspec": {
   "display_name": "Python 3",
   "language": "python",
   "name": "python3"
  },
  "language_info": {
   "codemirror_mode": {
    "name": "ipython",
    "version": 2
   },
   "file_extension": ".py",
   "mimetype": "text/x-python",
   "name": "python",
   "nbconvert_exporter": "python",
   "pygments_lexer": "ipython2",
   "version": "2.7.6"
  }
 },
 "nbformat": 4,
 "nbformat_minor": 5
}
